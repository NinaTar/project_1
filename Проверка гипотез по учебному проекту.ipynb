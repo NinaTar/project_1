{
 "cells": [
  {
   "cell_type": "markdown",
   "id": "080ec8d0",
   "metadata": {
    "toc": true
   },
   "source": [
    "<h1>Table of Contents<span class=\"tocSkip\"></span></h1>\n",
    "<div class=\"toc\"><ul class=\"toc-item\"><li><span><a href=\"#Введение\" data-toc-modified-id=\"Введение-1\"><span class=\"toc-item-num\">1&nbsp;&nbsp;</span>Введение</a></span></li><li><span><a href=\"#Проверка-гипотез\" data-toc-modified-id=\"Проверка-гипотез-2\"><span class=\"toc-item-num\">2&nbsp;&nbsp;</span>Проверка гипотез</a></span><ul class=\"toc-item\"><li><span><a href=\"#Средние-пользовательские-рейтинги-платформ-XOne-и-PC-одинаковые\" data-toc-modified-id=\"Средние-пользовательские-рейтинги-платформ-XOne-и-PC-одинаковые-2.1\"><span class=\"toc-item-num\">2.1&nbsp;&nbsp;</span>Средние пользовательские рейтинги платформ XOne и PC одинаковые</a></span></li><li><span><a href=\"#Cредние-пользовательские-рейтинги-жанров-Action-и-Sports-разные\" data-toc-modified-id=\"Cредние-пользовательские-рейтинги-жанров-Action-и-Sports-разные-2.2\"><span class=\"toc-item-num\">2.2&nbsp;&nbsp;</span>Cредние пользовательские рейтинги жанров Action и Sports разные</a></span></li></ul></li><li><span><a href=\"#Вывод\" data-toc-modified-id=\"Вывод-3\"><span class=\"toc-item-num\">3&nbsp;&nbsp;</span>Вывод</a></span></li></ul></div>"
   ]
  },
  {
   "cell_type": "markdown",
   "id": "1efbb1d1",
   "metadata": {},
   "source": [
    "## Введение\n",
    "\n",
    "Здесь проведена проверка двух гипотез по тем же данным, что находятся в основной тетрадке. Проверяется равность средних значений пользовательских оценок по двум компьютерным платформам и двум жанрам за 2016 год.\n",
    "\n",
    "Ниже собраны данные, необходимые для тестов. Более детальный разбор данных представлен в основной части проекта."
   ]
  },
  {
   "cell_type": "code",
   "execution_count": 29,
   "id": "900858cd",
   "metadata": {},
   "outputs": [],
   "source": [
    "import pandas as pd\n",
    "from scipy import stats as st"
   ]
  },
  {
   "cell_type": "code",
   "execution_count": 30,
   "id": "00cabe5e",
   "metadata": {},
   "outputs": [],
   "source": [
    "try:\n",
    "    data = pd.read_csv('games.csv')\n",
    "except:\n",
    "    data = pd.read_csv('https://code.s3.yandex.net/datasets/games.csv') "
   ]
  },
  {
   "cell_type": "code",
   "execution_count": 31,
   "id": "eab831ce",
   "metadata": {},
   "outputs": [],
   "source": [
    "data.columns = data.columns.str.lower()"
   ]
  },
  {
   "cell_type": "code",
   "execution_count": 32,
   "id": "7af7922c",
   "metadata": {},
   "outputs": [],
   "source": [
    "data = data.dropna(subset='year_of_release')\n",
    "data['year_of_release'] = data['year_of_release'].astype(int)"
   ]
  },
  {
   "cell_type": "code",
   "execution_count": 33,
   "id": "a3073695",
   "metadata": {},
   "outputs": [],
   "source": [
    "data['user_score'] = data['user_score'].replace('tbd','nan')\n",
    "data['user_score'] = data['user_score'].astype(float)"
   ]
  },
  {
   "cell_type": "code",
   "execution_count": 34,
   "id": "03e7c09d",
   "metadata": {},
   "outputs": [],
   "source": [
    "last_year_data = data.query('year_of_release==2016')"
   ]
  },
  {
   "cell_type": "markdown",
   "id": "f6f1f767",
   "metadata": {},
   "source": [
    "## Проверка гипотез\n",
    "\n",
    "Для проверки гипотез мы используем t-тесты. \n",
    "\n",
    "Т-тест — это параметрический тест, который используется для получения выводов после сравнения средних для разных групп или с определенным средним для конкретной группы. Их существует несколько.\n",
    "\n",
    "Одновыборочный t-тест  используется для сравнения среднего значения случайной выборки из набора данных со средним значением данного набора, которое уже известно.\n",
    "\n",
    "Двухвыборочный t-тест используется для определения того, как две отдельные группы отличаются друг от друга путем сравнения их средних. Его мы и будем использовать. Данные берем за последний 2016 год."
   ]
  },
  {
   "cell_type": "markdown",
   "id": "c55e017f",
   "metadata": {},
   "source": [
    "### Средние пользовательские рейтинги платформ XOne и PC одинаковые\n",
    "\n",
    "Нулевая гипотеза будет звучать так - средние пользовательские рейтинги по платформам XOne и PC равны.\n",
    "\n",
    "Соответственно, альтернативная гипотеза предполагает, что они будут не равны."
   ]
  },
  {
   "cell_type": "code",
   "execution_count": 35,
   "id": "aeed5487",
   "metadata": {},
   "outputs": [
    {
     "name": "stdout",
     "output_type": "stream",
     "text": [
      "р-значение: 0.35162730788932417\n",
      "Не получилось отвергнуть нулевую теорию\n"
     ]
    }
   ],
   "source": [
    "alpha = 0.05 # критический ур.стат.значимости\n",
    "\n",
    "user_score_XOne = last_year_data[last_year_data['platform'] == \"XOne\"]['user_score']\n",
    "user_score_PC = last_year_data[last_year_data['platform'] == \"PC\"]['user_score']\n",
    "\n",
    "results = st.ttest_ind(user_score_XOne, user_score_PC, equal_var=False, nan_policy='omit')\n",
    "\n",
    "print('р-значение:', results.pvalue)\n",
    "\n",
    "if results.pvalue < alpha:\n",
    "    print('Отвергаем нулевую теорию')\n",
    "else:\n",
    "    print('Не получилось отвергнуть нулевую теорию')"
   ]
  },
  {
   "cell_type": "markdown",
   "id": "bde9ead5",
   "metadata": {},
   "source": [
    "Не получилось отвергнуть нулевую теорию. Это означает, что средние пользовательские рейтинги по платформам XOne и PC равны, либо же находятся рядом друг с другом. Это можно проверить выведя их среднии на экран."
   ]
  },
  {
   "cell_type": "code",
   "execution_count": 36,
   "id": "ebd025b0",
   "metadata": {},
   "outputs": [
    {
     "name": "stdout",
     "output_type": "stream",
     "text": [
      "Среднее значение XOne: 6.59848484848485\n",
      "Среднее значение PC: 6.29777777777778\n"
     ]
    }
   ],
   "source": [
    "print('Среднее значение XOne:', user_score_XOne.dropna().mean())\n",
    "print('Среднее значение PC:', user_score_PC.dropna().mean())"
   ]
  },
  {
   "cell_type": "markdown",
   "id": "58cfec04",
   "metadata": {},
   "source": [
    "### Cредние пользовательские рейтинги жанров Action и Sports разные\n",
    "\n",
    "Нулевая гипотеза - средние пользовательские рейтинги жанров Action и Sports равны.\n",
    "\n",
    "Альтернативная гипотеза предполагает, что они будут не равны"
   ]
  },
  {
   "cell_type": "code",
   "execution_count": 37,
   "id": "ec0c06fa",
   "metadata": {},
   "outputs": [
    {
     "name": "stdout",
     "output_type": "stream",
     "text": [
      "р-значение: 0.0020250230280633302\n",
      "Отвергаем нулевую теорию\n"
     ]
    }
   ],
   "source": [
    "alpha = 0.05 # критический ур.стат.значимости\n",
    "\n",
    "user_score_action = last_year_data[last_year_data['genre'] == 'Action']['user_score']\n",
    "user_score_sports = last_year_data[last_year_data['genre'] == 'Sports']['user_score']\n",
    "\n",
    "results = st.ttest_ind(user_score_action, user_score_sports, equal_var=False, nan_policy='omit')\n",
    "\n",
    "print('р-значение:', results.pvalue)\n",
    "\n",
    "if results.pvalue < alpha:\n",
    "    print('Отвергаем нулевую теорию')\n",
    "else:\n",
    "    print('Не получилось отвергнуть нулевую теорию')"
   ]
  },
  {
   "cell_type": "markdown",
   "id": "e8fdb125",
   "metadata": {},
   "source": [
    "Отвергаем нулевую теорию. Значит среднии достаточно отличаются друг от друга. Проверим."
   ]
  },
  {
   "cell_type": "code",
   "execution_count": 38,
   "id": "68062114",
   "metadata": {},
   "outputs": [
    {
     "name": "stdout",
     "output_type": "stream",
     "text": [
      "Среднее значение жанра Action: 6.638823529411767\n",
      "Среднее значение жанра Sports: 5.432432432432433\n"
     ]
    }
   ],
   "source": [
    "print('Среднее значение жанра Action:', user_score_action.dropna().mean())\n",
    "print('Среднее значение жанра Sports:', user_score_sports.dropna().mean())"
   ]
  },
  {
   "cell_type": "markdown",
   "id": "23253b80",
   "metadata": {},
   "source": [
    "## Вывод"
   ]
  },
  {
   "cell_type": "markdown",
   "id": "d8ba7ad0",
   "metadata": {},
   "source": [
    "Мы проверили две гипотезы о равенстве средних между пользовательскими рейтингами платформ XOne и PC, и между пользовательскими рейтингами жанров Action и Sports. В первом случае мы не отвергли нулевую гипотезу, в отличии от второго. Соответственно, в первом случае вероятность случайно получить такое или большее различие равно около 35%. Это слишком большая вероятность, чтобы делать вывод о значимом различии между их средними."
   ]
  }
 ],
 "metadata": {
  "kernelspec": {
   "display_name": "Python 3 (ipykernel)",
   "language": "python",
   "name": "python3"
  },
  "language_info": {
   "codemirror_mode": {
    "name": "ipython",
    "version": 3
   },
   "file_extension": ".py",
   "mimetype": "text/x-python",
   "name": "python",
   "nbconvert_exporter": "python",
   "pygments_lexer": "ipython3",
   "version": "3.9.13"
  },
  "toc": {
   "base_numbering": 1,
   "nav_menu": {
    "height": "39px",
    "width": "193.653px"
   },
   "number_sections": true,
   "sideBar": true,
   "skip_h1_title": true,
   "title_cell": "Table of Contents",
   "title_sidebar": "Contents",
   "toc_cell": true,
   "toc_position": {
    "height": "calc(100% - 180px)",
    "left": "10px",
    "top": "150px",
    "width": "259.542px"
   },
   "toc_section_display": true,
   "toc_window_display": true
  }
 },
 "nbformat": 4,
 "nbformat_minor": 5
}
